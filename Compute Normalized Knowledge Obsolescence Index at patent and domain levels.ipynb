{
 "cells": [
  {
   "cell_type": "markdown",
   "metadata": {},
   "source": [
    "# Load Libraries"
   ]
  },
  {
   "cell_type": "code",
   "execution_count": 2,
   "metadata": {},
   "outputs": [
    {
     "name": "stdout",
     "output_type": "stream",
     "text": [
      "Populating the interactive namespace from numpy and matplotlib\n"
     ]
    },
    {
     "name": "stderr",
     "output_type": "stream",
     "text": [
      "C:\\Users\\g.triulzi\\AppData\\Local\\Continuum\\anaconda3\\lib\\site-packages\\IPython\\core\\magics\\pylab.py:160: UserWarning: pylab import has clobbered these variables: ['linalg', '__version__', 'info', 'fft', 'power', 'random']\n",
      "`%matplotlib` prevents importing * from pylab and numpy\n",
      "  \"\\n`%matplotlib` prevents importing * from pylab and numpy\"\n"
     ]
    }
   ],
   "source": [
    "import pandas as pd\n",
    "from pylab import *\n",
    "import seaborn as sns\n",
    "sns.set(style=\"whitegrid\")\n",
    "import csv\n",
    "import gc\n",
    "import scipy\n",
    "from scipy.stats.stats import pearsonr, spearmanr\n",
    "import time\n",
    "from tqdm import *\n",
    "\n",
    "pd.set_option('display.max_columns', None)\n",
    "%pylab inline"
   ]
  },
  {
   "cell_type": "code",
   "execution_count": 4,
   "metadata": {},
   "outputs": [],
   "source": [
    "time_start_notebook = time.time()"
   ]
  },
  {
   "cell_type": "markdown",
   "metadata": {},
   "source": [
    "# Define import and export paths"
   ]
  },
  {
   "cell_type": "code",
   "execution_count": null,
   "metadata": {},
   "outputs": [],
   "source": [
    "import_path = '/Users/g.triulzi/Dropbox (MIT)/Paper Predicting K with Patents/Data/Input/'\n",
    "export_path = '/Users/g.triulzi/Dropbox (MIT)/Paper Predicting K with Patents/Data/Output/'"
   ]
  },
  {
   "cell_type": "markdown",
   "metadata": {},
   "source": [
    "# Import Data"
   ]
  },
  {
   "cell_type": "code",
   "execution_count": 5,
   "metadata": {},
   "outputs": [
    {
     "name": "stderr",
     "output_type": "stream",
     "text": [
      "C:\\Users\\g.triulzi\\AppData\\Local\\Continuum\\anaconda3\\lib\\site-packages\\IPython\\core\\interactiveshell.py:3058: DtypeWarning: Columns (6,16) have mixed types. Specify dtype option on import or set low_memory=False.\n",
      "  interactivity=interactivity, compiler=compiler, result=result)\n",
      "C:\\Users\\g.triulzi\\AppData\\Local\\Continuum\\anaconda3\\lib\\site-packages\\ipykernel_launcher.py:11: SettingWithCopyWarning: \n",
      "A value is trying to be set on a copy of a slice from a DataFrame\n",
      "\n",
      "See the caveats in the documentation: http://pandas.pydata.org/pandas-docs/stable/user_guide/indexing.html#returning-a-view-versus-a-copy\n",
      "  # This is added back by InteractiveShellApp.init_path()\n"
     ]
    },
    {
     "data": {
      "text/plain": [
       "2.6172067205111187"
      ]
     },
     "execution_count": 5,
     "metadata": {},
     "output_type": "execute_result"
    }
   ],
   "source": [
    "ti = time.time() # 6.9\n",
    "\n",
    "# Read file with list of patents for each domain\n",
    "PATENT_SET_DOMAINS = pd.read_csv(import_path+'Domains_patent_info.csv')\n",
    "# Read file with information on all utility patents granted by the USPTO between 1975 and 2015\n",
    "PATENT_INFO = pd.read_csv(import_path+'All_patents_info.csv')\n",
    "PATENT_INFO.drop_duplicates('patent_number', keep = 'first', inplace=True)\n",
    "idx_letters = PATENT_INFO['mainclass_id'].astype(str).str.contains('a|b|c|d|e|f|g|h|i|j|k|l|m|n|o|p|q|r|s|t|u|v|w|x|y|z|/|;|-|nan', na=False, case=False)\n",
    "PATENT_INFO['mainclass_id'][~idx_letters] = PATENT_INFO['mainclass_id'][~idx_letters].astype(int).astype(str)\n",
    "PATENT_INFO['mainclass_id'] = PATENT_INFO['mainclass_id'].astype(str)\n",
    "# Read file with information on all citations between utility patents granted by the USPTO between 1975 and 2015\n",
    "CITATION_INFO = pd.read_csv(import_path+'CITATION_INFO_no_neg_citlag.csv')\n",
    "del CITATION_INFO['Unnamed: 0']\n",
    "gc.collect()\n",
    "\n",
    "tf = time.time()\n",
    "(tf-ti)/60"
   ]
  },
  {
   "cell_type": "code",
   "execution_count": 6,
   "metadata": {},
   "outputs": [
    {
     "name": "stderr",
     "output_type": "stream",
     "text": [
      "C:\\Users\\g.triulzi\\AppData\\Local\\Continuum\\anaconda3\\lib\\site-packages\\ipykernel_launcher.py:6: FutureWarning: \n",
      ".ix is deprecated. Please use\n",
      ".loc for label based indexing or\n",
      ".iloc for positional indexing\n",
      "\n",
      "See the documentation here:\n",
      "http://pandas.pydata.org/pandas-docs/stable/user_guide/indexing.html#ix-indexer-is-deprecated\n",
      "  \n",
      "C:\\Users\\g.triulzi\\AppData\\Local\\Continuum\\anaconda3\\lib\\site-packages\\pandas\\core\\series.py:1143: FutureWarning: \n",
      "Passing list-likes to .loc or [] with any missing label will raise\n",
      "KeyError in the future, you can use .reindex() as an alternative.\n",
      "\n",
      "See the documentation here:\n",
      "https://pandas.pydata.org/pandas-docs/stable/user_guide/indexing.html#deprecate-loc-reindex-listlike\n",
      "  return self.loc[key]\n"
     ]
    },
    {
     "data": {
      "text/plain": [
       "0.8315591653188069"
      ]
     },
     "execution_count": 6,
     "metadata": {},
     "output_type": "execute_result"
    }
   ],
   "source": [
    "ti = time.time() #1.13\n",
    "\n",
    "# create a series with 'patent_number' as index and ID from zero to N as values. \n",
    "# We will then use it to translate the edgelist from patent numbers to patent IDs. We will use 'map' for that\n",
    "PATENT_INFO['ID'] = range(len(PATENT_INFO['patent_number']))\n",
    "series_patent_ids = PATENT_INFO[['ID','patent_number']].set_index('patent_number').ix[:,0] \n",
    "\n",
    "# Now map patent numbers to IDs in our edgelist\n",
    "CITATION_INFO['citing_numerical_id'] = CITATION_INFO['citing_id'].astype(int).map(series_patent_ids) # see: http://stackoverflow.com/questions/25653652/how-to-replace-efficiently-values-on-a-pandas-dataframe\n",
    "CITATION_INFO['cited_numerical_id'] = CITATION_INFO['cited_id'].astype(int).map(series_patent_ids)\n",
    "\n",
    "# add information on USPC main class of citing and cited nodes to citation data\n",
    "CITATION_INFO['citing_numerical_id'] = CITATION_INFO['citing_numerical_id'].astype(int)\n",
    "CITATION_INFO['cited_numerical_id'] = CITATION_INFO['cited_numerical_id'].astype(int)\n",
    "CITATION_INFO['USPC_mainclass_citing'] = array(pd.Series(PATENT_INFO['mainclass_id'])[array(CITATION_INFO['citing_numerical_id'])])\n",
    "CITATION_INFO['USPC_mainclass_cited'] = array(pd.Series(PATENT_INFO['mainclass_id'])[array(CITATION_INFO['cited_numerical_id'])])\n",
    "\n",
    "# add information on IPC main class of citing and cited nodes to citation data\n",
    "CITATION_INFO['IPC_mainclass_citing'] = array(pd.Series(PATENT_INFO['IPC4'])[array(CITATION_INFO['citing_numerical_id'])])\n",
    "CITATION_INFO['IPC_mainclass_cited'] = array(pd.Series(PATENT_INFO['IPC4'])[array(CITATION_INFO['cited_numerical_id'])])\n",
    "\n",
    "tf = time.time()\n",
    "(tf-ti)/60"
   ]
  },
  {
   "cell_type": "code",
   "execution_count": 7,
   "metadata": {},
   "outputs": [],
   "source": [
    "CITATION_INFO['same_USPC_class'] = CITATION_INFO['USPC_mainclass_citing'].astype(str) == CITATION_INFO['USPC_mainclass_cited'].astype(str)\n",
    "CITATION_INFO['same_IPC_class'] = CITATION_INFO['IPC_mainclass_citing'].astype(str) == CITATION_INFO['IPC_mainclass_cited'].astype(str)"
   ]
  },
  {
   "cell_type": "markdown",
   "metadata": {},
   "source": [
    "# Compute observed number of citations to given age within and between classes for each patent"
   ]
  },
  {
   "cell_type": "code",
   "execution_count": 8,
   "metadata": {},
   "outputs": [
    {
     "data": {
      "text/plain": [
       "1.3280476013819376"
      ]
     },
     "execution_count": 8,
     "metadata": {},
     "output_type": "execute_result"
    }
   ],
   "source": [
    "ti = time.time() #5.8\n",
    "\n",
    "DF_patents_citations_age_within_class = (CITATION_INFO[['citing_id','CITLAG_filing_year','citation_id']]\n",
    "                                         [(CITATION_INFO['same_USPC_class']==True) & \n",
    "                                          (CITATION_INFO['CITLAG_filing_year']<=40)]\n",
    "                                         .groupby(['citing_id','CITLAG_filing_year']).agg(['count']))\n",
    "\n",
    "DF_patents_citations_age_between_class = (CITATION_INFO[['citing_id','CITLAG_filing_year','citation_id']]\n",
    "                                         [(CITATION_INFO['same_USPC_class']==False) & \n",
    "                                          (CITATION_INFO['CITLAG_filing_year']<=40)]\n",
    "                                         .groupby(['citing_id','CITLAG_filing_year']).agg(['count']))\n",
    "\n",
    "DF_patents_citations_age_total = (CITATION_INFO[['citing_id','CITLAG_filing_year','citation_id']]\n",
    "                                         [CITATION_INFO['CITLAG_filing_year']<=40]\n",
    "                                  .groupby(['citing_id','CITLAG_filing_year']).agg(['count']))\n",
    "\n",
    "tf = time.time()\n",
    "(tf-ti)/60"
   ]
  },
  {
   "cell_type": "code",
   "execution_count": 9,
   "metadata": {},
   "outputs": [
    {
     "data": {
      "text/plain": [
       "20"
      ]
     },
     "execution_count": 9,
     "metadata": {},
     "output_type": "execute_result"
    }
   ],
   "source": [
    "del CITATION_INFO\n",
    "gc.collect()"
   ]
  },
  {
   "cell_type": "code",
   "execution_count": 10,
   "metadata": {},
   "outputs": [],
   "source": [
    "# Move pandas data from index to column after groupby\n",
    "# http://stackoverflow.com/questions/21767900/how-to-move-pandas-data-from-index-to-column-after-multiple-groupby\n",
    "DF_patents_citations_age_within_class = DF_patents_citations_age_within_class['citation_id'].reset_index()\n",
    "DF_patents_citations_age_between_class = DF_patents_citations_age_between_class['citation_id'].reset_index()\n",
    "DF_patents_citations_age_total = DF_patents_citations_age_total['citation_id'].reset_index()"
   ]
  },
  {
   "cell_type": "code",
   "execution_count": 11,
   "metadata": {},
   "outputs": [
    {
     "name": "stderr",
     "output_type": "stream",
     "text": [
      "C:\\Users\\g.triulzi\\AppData\\Local\\Continuum\\anaconda3\\lib\\site-packages\\ipykernel_launcher.py:11: SettingWithCopyWarning: \n",
      "A value is trying to be set on a copy of a slice from a DataFrame\n",
      "\n",
      "See the caveats in the documentation: http://pandas.pydata.org/pandas-docs/stable/user_guide/indexing.html#returning-a-view-versus-a-copy\n",
      "  # This is added back by InteractiveShellApp.init_path()\n",
      "C:\\Users\\g.triulzi\\AppData\\Local\\Continuum\\anaconda3\\lib\\site-packages\\ipykernel_launcher.py:18: SettingWithCopyWarning: \n",
      "A value is trying to be set on a copy of a slice from a DataFrame\n",
      "\n",
      "See the caveats in the documentation: http://pandas.pydata.org/pandas-docs/stable/user_guide/indexing.html#returning-a-view-versus-a-copy\n"
     ]
    }
   ],
   "source": [
    "# Rename columns of groupby output to clarify if the citation count refers to within or between classes\n",
    "DF_patents_citations_age_total.rename(columns={\"CITLAG_filing_year\": \"age\",\"count\": \"citation_count_age\"},inplace=True)\n",
    "DF_patents_citations_age_within_class.rename(columns={\"CITLAG_filing_year\": \"age\",\"count\": \"within_class_citation_count_age\"},inplace=True)\n",
    "DF_patents_citations_age_between_class.rename(columns={\"CITLAG_filing_year\": \"age\",\"count\": \"between_class_citation_count_age\"},inplace=True)\n",
    "\n",
    "# Merge with within class citations counts\n",
    "DF_patents_citations_age_total=(pd.merge(DF_patents_citations_age_total,\n",
    "                                         DF_patents_citations_age_within_class, \n",
    "                             how = 'left', left_on = ['citing_id','age'], right_on = ['citing_id','age']))\n",
    "\n",
    "DF_patents_citations_age_total['within_class_citation_count_age'][isnan(DF_patents_citations_age_total['within_class_citation_count_age'])]=0.0\n",
    "\n",
    "# Merge with between class citations counts\n",
    "DF_patents_citations_age_total=(pd.merge(DF_patents_citations_age_total,\n",
    "                                         DF_patents_citations_age_between_class, \n",
    "                             how = 'left', left_on = ['citing_id','age'], right_on = ['citing_id','age']))\n",
    "\n",
    "DF_patents_citations_age_total['between_class_citation_count_age'][isnan(DF_patents_citations_age_total['between_class_citation_count_age'])]=0.0\n"
   ]
  },
  {
   "cell_type": "code",
   "execution_count": 12,
   "metadata": {},
   "outputs": [
    {
     "data": {
      "text/plain": [
       "20"
      ]
     },
     "execution_count": 12,
     "metadata": {},
     "output_type": "execute_result"
    }
   ],
   "source": [
    "DF_patents_citations_age_total['citing_id'] = DF_patents_citations_age_total['citing_id'].astype(int)\n",
    "PATENT_INFO['patent_number'] = PATENT_INFO['patent_number'].astype(int)\n",
    "\n",
    "DF_patents_citations_age_total=(pd.merge(DF_patents_citations_age_total,\n",
    "                                         PATENT_INFO[['patent_number','mainclass_id']], \n",
    "                             how = 'left', left_on = ['citing_id'], right_on = ['patent_number']))\n",
    "\n",
    "del DF_patents_citations_age_total['patent_number']\n",
    "gc.collect()"
   ]
  },
  {
   "cell_type": "code",
   "execution_count": 13,
   "metadata": {},
   "outputs": [],
   "source": [
    "# Add columns with total number of citations made by each patent to SAME class\n",
    "DF_sum_within_class_citations_by_patent = (DF_patents_citations_age_total[['citing_id','within_class_citation_count_age']]\n",
    "                                           .groupby(['citing_id']).agg(['sum']))\n",
    "\n",
    "DF_patents_citations_age_total=(pd.merge(DF_patents_citations_age_total,\n",
    "                                         DF_sum_within_class_citations_by_patent['within_class_citation_count_age'], \n",
    "                             how = 'left', left_on = ['citing_id'], \n",
    "                                         right_on = array(DF_sum_within_class_citations_by_patent['within_class_citation_count_age']['sum'].index)))\n",
    "\n",
    "DF_patents_citations_age_total.rename(columns={\"sum\": \"total_within_class_citation_count\"},inplace=True)\n",
    "\n",
    "# Add columns with total number of citations made by each patent to OTHER classes\n",
    "DF_sum_between_class_citations_by_patent = (DF_patents_citations_age_total[['citing_id','between_class_citation_count_age']]\n",
    "                                           .groupby(['citing_id']).agg(['sum']))\n",
    "\n",
    "DF_patents_citations_age_total=(pd.merge(DF_patents_citations_age_total,\n",
    "                                         DF_sum_between_class_citations_by_patent['between_class_citation_count_age'], \n",
    "                             how = 'left', left_on = ['citing_id'], \n",
    "                                         right_on = array(DF_sum_between_class_citations_by_patent['between_class_citation_count_age']['sum'].index)))\n",
    "\n",
    "DF_patents_citations_age_total.rename(columns={\"sum\": \"total_between_class_citation_count\"},inplace=True)"
   ]
  },
  {
   "cell_type": "code",
   "execution_count": 14,
   "metadata": {},
   "outputs": [
    {
     "data": {
      "text/plain": [
       "20"
      ]
     },
     "execution_count": 14,
     "metadata": {},
     "output_type": "execute_result"
    }
   ],
   "source": [
    "# Add columns with patent's filing year\n",
    "DF_patents_citations_age_total=(pd.merge(DF_patents_citations_age_total,\n",
    "                                         PATENT_INFO[['patent_number','filing_year']], \n",
    "                             how = 'left', left_on = 'citing_id', \n",
    "                                         right_on = 'patent_number'))\n",
    "\n",
    "del DF_patents_citations_age_total['patent_number']\n",
    "gc.collect()"
   ]
  },
  {
   "cell_type": "code",
   "execution_count": 15,
   "metadata": {},
   "outputs": [],
   "source": [
    "DF_patents_citations_age_total.rename(columns={\"mainclass_id\": \"Class\", \"age\":\"Age\"},inplace=True)"
   ]
  },
  {
   "cell_type": "code",
   "execution_count": 16,
   "metadata": {},
   "outputs": [
    {
     "data": {
      "text/html": [
       "<div>\n",
       "<style scoped>\n",
       "    .dataframe tbody tr th:only-of-type {\n",
       "        vertical-align: middle;\n",
       "    }\n",
       "\n",
       "    .dataframe tbody tr th {\n",
       "        vertical-align: top;\n",
       "    }\n",
       "\n",
       "    .dataframe thead th {\n",
       "        text-align: right;\n",
       "    }\n",
       "</style>\n",
       "<table border=\"1\" class=\"dataframe\">\n",
       "  <thead>\n",
       "    <tr style=\"text-align: right;\">\n",
       "      <th></th>\n",
       "      <th>citing_id</th>\n",
       "      <th>Age</th>\n",
       "      <th>citation_count_age</th>\n",
       "      <th>within_class_citation_count_age</th>\n",
       "      <th>between_class_citation_count_age</th>\n",
       "      <th>Class</th>\n",
       "      <th>total_within_class_citation_count</th>\n",
       "      <th>total_between_class_citation_count</th>\n",
       "      <th>filing_year</th>\n",
       "    </tr>\n",
       "  </thead>\n",
       "  <tbody>\n",
       "    <tr>\n",
       "      <td>0</td>\n",
       "      <td>3930394</td>\n",
       "      <td>26.0</td>\n",
       "      <td>1</td>\n",
       "      <td>0.0</td>\n",
       "      <td>1.0</td>\n",
       "      <td>72</td>\n",
       "      <td>0.0</td>\n",
       "      <td>1.0</td>\n",
       "      <td>1974.0</td>\n",
       "    </tr>\n",
       "    <tr>\n",
       "      <td>1</td>\n",
       "      <td>3930419</td>\n",
       "      <td>28.0</td>\n",
       "      <td>1</td>\n",
       "      <td>0.0</td>\n",
       "      <td>1.0</td>\n",
       "      <td>74</td>\n",
       "      <td>0.0</td>\n",
       "      <td>1.0</td>\n",
       "      <td>1973.0</td>\n",
       "    </tr>\n",
       "    <tr>\n",
       "      <td>2</td>\n",
       "      <td>3930430</td>\n",
       "      <td>15.0</td>\n",
       "      <td>1</td>\n",
       "      <td>0.0</td>\n",
       "      <td>1.0</td>\n",
       "      <td>84</td>\n",
       "      <td>0.0</td>\n",
       "      <td>1.0</td>\n",
       "      <td>1974.0</td>\n",
       "    </tr>\n",
       "    <tr>\n",
       "      <td>3</td>\n",
       "      <td>3930447</td>\n",
       "      <td>1.0</td>\n",
       "      <td>1</td>\n",
       "      <td>0.0</td>\n",
       "      <td>1.0</td>\n",
       "      <td>101</td>\n",
       "      <td>1.0</td>\n",
       "      <td>1.0</td>\n",
       "      <td>1974.0</td>\n",
       "    </tr>\n",
       "    <tr>\n",
       "      <td>4</td>\n",
       "      <td>3930447</td>\n",
       "      <td>17.0</td>\n",
       "      <td>1</td>\n",
       "      <td>1.0</td>\n",
       "      <td>0.0</td>\n",
       "      <td>101</td>\n",
       "      <td>1.0</td>\n",
       "      <td>1.0</td>\n",
       "      <td>1974.0</td>\n",
       "    </tr>\n",
       "    <tr>\n",
       "      <td>5</td>\n",
       "      <td>3930505</td>\n",
       "      <td>7.0</td>\n",
       "      <td>1</td>\n",
       "      <td>0.0</td>\n",
       "      <td>1.0</td>\n",
       "      <td>604</td>\n",
       "      <td>0.0</td>\n",
       "      <td>1.0</td>\n",
       "      <td>1974.0</td>\n",
       "    </tr>\n",
       "    <tr>\n",
       "      <td>6</td>\n",
       "      <td>3930572</td>\n",
       "      <td>1.0</td>\n",
       "      <td>1</td>\n",
       "      <td>0.0</td>\n",
       "      <td>1.0</td>\n",
       "      <td>198</td>\n",
       "      <td>0.0</td>\n",
       "      <td>1.0</td>\n",
       "      <td>1974.0</td>\n",
       "    </tr>\n",
       "    <tr>\n",
       "      <td>7</td>\n",
       "      <td>3930653</td>\n",
       "      <td>4.0</td>\n",
       "      <td>1</td>\n",
       "      <td>0.0</td>\n",
       "      <td>1.0</td>\n",
       "      <td>369</td>\n",
       "      <td>0.0</td>\n",
       "      <td>1.0</td>\n",
       "      <td>1975.0</td>\n",
       "    </tr>\n",
       "  </tbody>\n",
       "</table>\n",
       "</div>"
      ],
      "text/plain": [
       "   citing_id   Age  citation_count_age  within_class_citation_count_age  \\\n",
       "0    3930394  26.0                   1                              0.0   \n",
       "1    3930419  28.0                   1                              0.0   \n",
       "2    3930430  15.0                   1                              0.0   \n",
       "3    3930447   1.0                   1                              0.0   \n",
       "4    3930447  17.0                   1                              1.0   \n",
       "5    3930505   7.0                   1                              0.0   \n",
       "6    3930572   1.0                   1                              0.0   \n",
       "7    3930653   4.0                   1                              0.0   \n",
       "\n",
       "   between_class_citation_count_age Class  total_within_class_citation_count  \\\n",
       "0                               1.0    72                                0.0   \n",
       "1                               1.0    74                                0.0   \n",
       "2                               1.0    84                                0.0   \n",
       "3                               1.0   101                                1.0   \n",
       "4                               0.0   101                                1.0   \n",
       "5                               1.0   604                                0.0   \n",
       "6                               1.0   198                                0.0   \n",
       "7                               1.0   369                                0.0   \n",
       "\n",
       "   total_between_class_citation_count  filing_year  \n",
       "0                                 1.0       1974.0  \n",
       "1                                 1.0       1973.0  \n",
       "2                                 1.0       1974.0  \n",
       "3                                 1.0       1974.0  \n",
       "4                                 1.0       1974.0  \n",
       "5                                 1.0       1974.0  \n",
       "6                                 1.0       1974.0  \n",
       "7                                 1.0       1975.0  "
      ]
     },
     "execution_count": 16,
     "metadata": {},
     "output_type": "execute_result"
    }
   ],
   "source": [
    "DF_patents_citations_age_total[:8]"
   ]
  },
  {
   "cell_type": "markdown",
   "metadata": {
    "collapsed": true
   },
   "source": [
    "# Compute number of patents of a given age (up to 40 years old) in each USPC class at each point in time"
   ]
  },
  {
   "cell_type": "code",
   "execution_count": 17,
   "metadata": {},
   "outputs": [],
   "source": [
    "# Read file with data provided by Hyejin Youn on class size since early days of USPTO\n",
    "HISTORIC_USPTO = pd.read_csv('/Users/g.triulzi/Dropbox (MIT)/USPTO Database 2015/Hyejin_Youn_Database_Classes_sorted.csv')"
   ]
  },
  {
   "cell_type": "code",
   "execution_count": 19,
   "metadata": {},
   "outputs": [
    {
     "name": "stderr",
     "output_type": "stream",
     "text": [
      "  0%|                                                                                           | 0/65 [00:00<?, ?it/s]C:\\Users\\g.triulzi\\AppData\\Local\\Continuum\\anaconda3\\lib\\site-packages\\ipykernel_launcher.py:12: SettingWithCopyWarning: \n",
      "A value is trying to be set on a copy of a slice from a DataFrame\n",
      "\n",
      "See the caveats in the documentation: http://pandas.pydata.org/pandas-docs/stable/user_guide/indexing.html#returning-a-view-versus-a-copy\n",
      "  if sys.path[0] == '':\n",
      "100%|██████████████████████████████████████████████████████████████████████████████████| 65/65 [14:18<00:00, 13.21s/it]\n"
     ]
    }
   ],
   "source": [
    "# I need to harmonize the way class names with number lower than 100 are recorded between different dataframes\n",
    "list_classes_to_edit = (['001', '002', '004', '005', '007', '008', '012', '014', '015',\n",
    "       '016', '019', '023', '024', '026', '027', '028', '029', '030',\n",
    "       '033', '034', '036', '037', '038', '040', '042', '043', '044',\n",
    "       '047', '048', '049', '051', '052', '053', '054', '055', '056',\n",
    "       '057', '059', '060', '062', '063', '065', '066', '068', '069',\n",
    "       '070', '071', '072', '073', '074', '075', '076', '079', '081',\n",
    "       '082', '083', '084', '086', '087', '089', '091', '092', '095',\n",
    "       '096', '099'])\n",
    "\n",
    "for x in tqdm(list_classes_to_edit):\n",
    "    HISTORIC_USPTO['Class'][HISTORIC_USPTO['Class'].astype(str).str.contains(x)]=int(x)"
   ]
  },
  {
   "cell_type": "code",
   "execution_count": 20,
   "metadata": {},
   "outputs": [
    {
     "name": "stderr",
     "output_type": "stream",
     "text": [
      "100%|████████████████████████████████████████████████████████████████████████████████| 179/179 [01:57<00:00,  1.52it/s]\n"
     ]
    },
    {
     "data": {
      "text/plain": [
       "0"
      ]
     },
     "execution_count": 20,
     "metadata": {},
     "output_type": "execute_result"
    }
   ],
   "source": [
    "# Take into account primary class only for utility patents only\n",
    "HISTORIC_USPTO_utility_primaryclass = HISTORIC_USPTO[(HISTORIC_USPTO['Pat_Type']=='U') & (HISTORIC_USPTO['Primary']==1)]\n",
    "\n",
    "DF_class_size_by_age = pd.DataFrame()\n",
    "year_list = unique(HISTORIC_USPTO_utility_primaryclass['Appyear'])\n",
    "for year in tqdm(year_list):\n",
    "    DATA = HISTORIC_USPTO_utility_primaryclass[['Patent','Class','Appyear']][(HISTORIC_USPTO_utility_primaryclass['Appyear']>=year-40) & (HISTORIC_USPTO_utility_primaryclass['Appyear']<=year)]\n",
    "    DATA['Age']=year-DATA['Appyear']\n",
    "    \n",
    "    # Compute number of patents of a given age (smaller or equal than 40) in each class in that year\n",
    "    DATA_grouped = DATA.groupby(['Class','Age']).agg(['count'])\n",
    "    DATA_grouped = DATA_grouped['Patent'].reset_index()\n",
    "    DATA_grouped['year_of_observation']=year\n",
    "    DATA_grouped.rename(columns={\"count\": \"patcount_class_age_year\"}, inplace=True)\n",
    "    \n",
    "    # Compute number of patents of a given age (smaller or equal than 40) in ANY class in that year\n",
    "    DATA_grouped_all_classes = DATA.groupby(['Age']).agg(['count'])\n",
    "    DATA_grouped=(pd.merge(DATA_grouped, DATA_grouped_all_classes['Patent'], \n",
    "                             how = 'left', left_on = 'Age', right_on = array(DATA_grouped_all_classes['Patent']['count'].index)))\n",
    "    DATA_grouped.rename(columns={\"count\": \"patcount_all_classes_age_year\"}, inplace=True)\n",
    "    \n",
    "    # Compute number of patents of a given age (smaller or equal than 40) in all other classes in that year\n",
    "    DATA_grouped['patcount_other_classes_age_year'] = DATA_grouped['patcount_all_classes_age_year'] - DATA_grouped['patcount_class_age_year']\n",
    "    \n",
    "    # Compute total number of patents in class in the last 40 years in that year\n",
    "    DATA_grouped_total_in_class = DATA[['Patent', 'Class']].groupby(['Class']).agg(['count'])\n",
    "    DATA_grouped=(pd.merge(DATA_grouped, DATA_grouped_total_in_class['Patent'], \n",
    "                             how = 'left', left_on = 'Class', right_on = array(DATA_grouped_total_in_class['Patent']['count'].index)))\n",
    "    DATA_grouped.rename(columns={\"count\": \"patcount_class_total_below40_year\"}, inplace=True)\n",
    "    \n",
    "    # Compute total number of patents in ANY class in the last 40 years in that year\n",
    "    DATA_grouped['patcount_total_below40_year'] = shape(DATA)[0]\n",
    "    \n",
    "    # Compute total number of patents in ANY OTHER class in the last 40 years in that year\n",
    "    DATA_grouped['patcount_other_classes_total_below40_year'] = DATA_grouped['patcount_total_below40_year'] - DATA_grouped['patcount_class_total_below40_year']\n",
    "    \n",
    "    # Append data for given year of observation to the complete DataFrame\n",
    "    DF_class_size_by_age = DF_class_size_by_age.append(DATA_grouped)\n",
    "    \n",
    "    del DATA\n",
    "    del DATA_grouped\n",
    "    \n",
    "gc.collect()"
   ]
  },
  {
   "cell_type": "code",
   "execution_count": 21,
   "metadata": {},
   "outputs": [
    {
     "data": {
      "text/plain": [
       "20"
      ]
     },
     "execution_count": 21,
     "metadata": {},
     "output_type": "execute_result"
    }
   ],
   "source": [
    "del HISTORIC_USPTO\n",
    "del HISTORIC_USPTO_utility_primaryclass\n",
    "gc.collect()"
   ]
  },
  {
   "cell_type": "markdown",
   "metadata": {},
   "source": [
    "# Merge DF_patents_citations_age_total and DF_class_size_by_age"
   ]
  },
  {
   "cell_type": "code",
   "execution_count": 23,
   "metadata": {},
   "outputs": [],
   "source": [
    "# Now create a dataframe with each citing_id repeated 41 times, once per each potential age of the cited patents\n",
    "list_citing_ids = unique(DF_patents_citations_age_total['citing_id'])\n",
    "list_ages = list(range(41))\n",
    "\n",
    "DF_final = pd.DataFrame({\"citing_id\":tile(list_citing_ids,len(list_ages)), \"Age\":tile(list_ages,len(list_citing_ids))})\n",
    "DF_final = DF_final.sort_values(['citing_id','Age'])"
   ]
  },
  {
   "cell_type": "code",
   "execution_count": 24,
   "metadata": {},
   "outputs": [
    {
     "name": "stderr",
     "output_type": "stream",
     "text": [
      "C:\\Users\\g.triulzi\\AppData\\Local\\Continuum\\anaconda3\\lib\\site-packages\\ipykernel_launcher.py:46: SettingWithCopyWarning: \n",
      "A value is trying to be set on a copy of a slice from a DataFrame\n",
      "\n",
      "See the caveats in the documentation: http://pandas.pydata.org/pandas-docs/stable/user_guide/indexing.html#returning-a-view-versus-a-copy\n",
      "C:\\Users\\g.triulzi\\AppData\\Local\\Continuum\\anaconda3\\lib\\site-packages\\ipykernel_launcher.py:47: SettingWithCopyWarning: \n",
      "A value is trying to be set on a copy of a slice from a DataFrame\n",
      "\n",
      "See the caveats in the documentation: http://pandas.pydata.org/pandas-docs/stable/user_guide/indexing.html#returning-a-view-versus-a-copy\n",
      "C:\\Users\\g.triulzi\\AppData\\Local\\Continuum\\anaconda3\\lib\\site-packages\\ipykernel_launcher.py:48: SettingWithCopyWarning: \n",
      "A value is trying to be set on a copy of a slice from a DataFrame\n",
      "\n",
      "See the caveats in the documentation: http://pandas.pydata.org/pandas-docs/stable/user_guide/indexing.html#returning-a-view-versus-a-copy\n"
     ]
    }
   ],
   "source": [
    "# Merge the newly created dataframe DF_final with DF_patents_citations_age_total and DF_class_size_by_age\n",
    "DF_final['citing_id'] = DF_final['citing_id'].astype(str)\n",
    "DF_patents_citations_age_total['citing_id'] = DF_patents_citations_age_total['citing_id'].astype(str)\n",
    "\n",
    "DF_final=(pd.merge(DF_final, DF_patents_citations_age_total,\n",
    "                         how = 'left', left_on = ['citing_id','Age'], right_on = ['citing_id','Age']))\n",
    "\n",
    "# Add the complete information on total_within_class_citation_count and total_between_class_citation_count (we first need to delete the old\n",
    "# columns because they do not contain the information for each patent -age pair)\n",
    "del DF_final['total_within_class_citation_count']\n",
    "del DF_final['total_between_class_citation_count']\n",
    "# Add columns with total number of citations made by each patent to SAME class\n",
    "DF_final.citing_id = DF_final.citing_id.astype(int)\n",
    "DF_final=(pd.merge(DF_final,DF_sum_within_class_citations_by_patent['within_class_citation_count_age'], \n",
    "                             how = 'left', left_on = ['citing_id'], \n",
    "                                         right_on = array(DF_sum_within_class_citations_by_patent['within_class_citation_count_age']['sum'].index)))\n",
    "\n",
    "DF_final.rename(columns={\"sum\": \"total_within_class_citation_count\"},inplace=True)\n",
    "\n",
    "# Add columns with total number of citations made by each patent to OTHER classes\n",
    "DF_final=(pd.merge(DF_final,DF_sum_between_class_citations_by_patent['between_class_citation_count_age'], \n",
    "                             how = 'left', left_on = ['citing_id'], \n",
    "                                         right_on = array(DF_sum_between_class_citations_by_patent['between_class_citation_count_age']['sum'].index)))\n",
    "\n",
    "DF_final.rename(columns={\"sum\": \"total_between_class_citation_count\"},inplace=True)\n",
    "\n",
    "# Add the complete information on patent class and filing year (we first need to delete the old columns because they do not \n",
    "# contain the information for each patent -age pair)\n",
    "del DF_final['Class']\n",
    "del DF_final['filing_year']\n",
    "PATENT_INFO['patent_number'] = PATENT_INFO['patent_number'].astype(int)\n",
    "\n",
    "DF_final=(pd.merge(DF_final, PATENT_INFO[['patent_number','mainclass_id','filing_year']],\n",
    "                         how = 'left', left_on = ['citing_id'], right_on = ['patent_number']))\n",
    "DF_final.rename(columns={\"mainclass_id\": \"Class\"}, inplace=True)\n",
    "del DF_final['patent_number']\n",
    "\n",
    "# Now merge with DF_class_size_by_age\n",
    "DF_final['Class'] = DF_final['Class'].astype(str)\n",
    "DF_class_size_by_age['Class'] = DF_class_size_by_age['Class'].astype(str)\n",
    "\n",
    "DF_final=(pd.merge(DF_final, DF_class_size_by_age, \n",
    "                         how = 'left', left_on = ['Class','Age','filing_year'], right_on = ['Class','Age','year_of_observation']))\n",
    "\n",
    "# Replace NaN with zero in columns citation_count_age, within_class_citation_count_age and between_class_citation_count_age\n",
    "DF_final['citation_count_age'][isnan(DF_final['citation_count_age'])]= 0.0\n",
    "DF_final['within_class_citation_count_age'][isnan(DF_final['within_class_citation_count_age'])]= 0.0\n",
    "DF_final['between_class_citation_count_age'][isnan(DF_final['between_class_citation_count_age'])]= 0.0"
   ]
  },
  {
   "cell_type": "markdown",
   "metadata": {},
   "source": [
    "# Compute Expected Value, STD and Z-score of number of citations within and between classes by age for each patent"
   ]
  },
  {
   "cell_type": "code",
   "execution_count": 26,
   "metadata": {},
   "outputs": [],
   "source": [
    "# Compute EXPEXTED VALUES\n",
    "DF_final['EV_num_cit_within_class_age'] = (DF_final['total_within_class_citation_count'] * \n",
    "                                                                 DF_final['patcount_class_age_year'] /\n",
    "                                                                 DF_final['patcount_class_total_below40_year'])\n",
    "\n",
    "DF_final['EV_num_cit_between_class_age'] = (DF_final['total_between_class_citation_count'] * \n",
    "                                                                 DF_final['patcount_other_classes_age_year'] /\n",
    "                                                                 DF_final['patcount_other_classes_total_below40_year'])\n",
    "\n",
    "DF_final['EV_num_cit_total_age'] = (DF_final['EV_num_cit_within_class_age'] + \n",
    "                                                          DF_final['EV_num_cit_between_class_age'])"
   ]
  },
  {
   "cell_type": "code",
   "execution_count": 27,
   "metadata": {},
   "outputs": [],
   "source": [
    "# Compute STANDARD DEVIATIONS\n",
    "DF_final['STD_num_cit_within_class_age'] = (DF_final['EV_num_cit_within_class_age'] *\n",
    "                                           (1 - (DF_final['patcount_class_age_year'] / DF_final['patcount_class_total_below40_year'])) *\n",
    "                                           (DF_final['patcount_class_total_below40_year']-DF_final['total_within_class_citation_count'])/\n",
    "                                            (DF_final['patcount_class_total_below40_year']-1))\n",
    "\n",
    "DF_final['STD_num_cit_between_class_age'] = (DF_final['EV_num_cit_between_class_age'] *\n",
    "                                           (1 - (DF_final['patcount_other_classes_age_year'] / DF_final['patcount_other_classes_total_below40_year'])) *\n",
    "                                           (DF_final['patcount_other_classes_total_below40_year']-DF_final['total_between_class_citation_count'])/\n",
    "                                            (DF_final['patcount_other_classes_total_below40_year']-1))\n",
    "\n",
    "DF_final['STD_num_cit_total_age'] = (DF_final['STD_num_cit_within_class_age'] + \n",
    "                                                          DF_final['STD_num_cit_between_class_age'])"
   ]
  },
  {
   "cell_type": "code",
   "execution_count": 28,
   "metadata": {},
   "outputs": [],
   "source": [
    "# Compute Z-SCORES\n",
    "DF_final['Z_num_cit_within_class_age'] = ((DF_final['within_class_citation_count_age'] - \n",
    "                                                                 DF_final['EV_num_cit_within_class_age']) /\n",
    "                                                                 DF_final['STD_num_cit_within_class_age'])\n",
    "\n",
    "DF_final['Z_num_cit_between_class_age'] = ((DF_final['between_class_citation_count_age'] - \n",
    "                                                                 DF_final['EV_num_cit_between_class_age']) /\n",
    "                                                                 DF_final['STD_num_cit_between_class_age'])\n",
    "\n",
    "DF_final['Z_num_cit_total_age'] = ((DF_final['citation_count_age'] - \n",
    "                                                                 DF_final['EV_num_cit_total_age']) /\n",
    "                                                                 DF_final['STD_num_cit_total_age'])"
   ]
  },
  {
   "cell_type": "markdown",
   "metadata": {},
   "source": [
    "# Free memory"
   ]
  },
  {
   "cell_type": "code",
   "execution_count": 30,
   "metadata": {},
   "outputs": [
    {
     "data": {
      "text/plain": [
       "198"
      ]
     },
     "execution_count": 30,
     "metadata": {},
     "output_type": "execute_result"
    }
   ],
   "source": [
    "del DATA_grouped_all_classes\n",
    "del DATA_grouped_total_in_class\n",
    "del DF_class_size_by_age\n",
    "del DF_patents_citations_age_between_class\n",
    "del DF_patents_citations_age_total\n",
    "del DF_patents_citations_age_within_class\n",
    "del DF_sum_between_class_citations_by_patent\n",
    "del DF_sum_within_class_citations_by_patent\n",
    "gc.collect()"
   ]
  },
  {
   "cell_type": "code",
   "execution_count": 43,
   "metadata": {},
   "outputs": [
    {
     "data": {
      "text/plain": [
       "40"
      ]
     },
     "execution_count": 43,
     "metadata": {},
     "output_type": "execute_result"
    }
   ],
   "source": [
    "del list_citing_ids\n",
    "del PATENT_INFO\n",
    "del series_patent_ids\n",
    "del idx_letters\n",
    "gc.collect()"
   ]
  },
  {
   "cell_type": "markdown",
   "metadata": {},
   "source": [
    "# Compute Normalized Knowledge Obsolescence Index at the domain level"
   ]
  },
  {
   "cell_type": "code",
   "execution_count": 44,
   "metadata": {},
   "outputs": [],
   "source": [
    "PATENT_SET_DOMAINS['patent_id'] = PATENT_SET_DOMAINS['patent_id'].astype(str)\n",
    "DF_final['citing_id'] = DF_final['citing_id'].astype(str)"
   ]
  },
  {
   "cell_type": "code",
   "execution_count": null,
   "metadata": {},
   "outputs": [],
   "source": [
    "DF_final=(pd.merge(DF_final,PATENT_SET_DOMAINS[['patent_id','Domain']],\n",
    "                         how = 'left', left_on = ['citing_id'], right_on = ['patent_id']))"
   ]
  },
  {
   "cell_type": "code",
   "execution_count": null,
   "metadata": {},
   "outputs": [],
   "source": [
    "del DF_final['patent_id']\n",
    "del PATENT_SET_DOMAINS\n",
    "gc.collect()"
   ]
  },
  {
   "cell_type": "code",
   "execution_count": null,
   "metadata": {},
   "outputs": [
    {
     "name": "stderr",
     "output_type": "stream",
     "text": [
      "\r",
      "  0%|                                                                                           | 0/30 [00:00<?, ?it/s]"
     ]
    }
   ],
   "source": [
    "DZ_years_domains = pd.DataFrame()\n",
    "list_domains = DF_final['Domain'].unique()\n",
    "list_domains = list_domains[list_domains.astype(str)!='nan']\n",
    "for domain in tqdm(list_domains):\n",
    "    year_list_domain = list(range(1975,2014))\n",
    "    for year in year_list_domain:\n",
    "        domain_name = domain\n",
    "        DX = DF_final[(DF_final['Domain']==domain_name) & (DF_final['filing_year']<=year)]\n",
    "        DX_grouped = DX[['Age','citation_count_age','EV_num_cit_total_age','STD_num_cit_total_age']].groupby('Age').agg('sum')\n",
    "        DX_grouped = DX_grouped.reset_index()\n",
    "        DX_grouped['Zscore_citations_age'] = (DX_grouped['citation_count_age']-DX_grouped['EV_num_cit_total_age'])/DX_grouped['STD_num_cit_total_age']\n",
    "        \n",
    "        # store z-score of observed PDF at different ages\n",
    "        Z0 = DX_grouped['Zscore_citations_age'][DX_grouped['Age']==0]\n",
    "        Z1 = DX_grouped['Zscore_citations_age'][DX_grouped['Age']==1]\n",
    "        Z2 = DX_grouped['Zscore_citations_age'][DX_grouped['Age']==2]\n",
    "        Z3 = DX_grouped['Zscore_citations_age'][DX_grouped['Age']==3]\n",
    "        Z4 = DX_grouped['Zscore_citations_age'][DX_grouped['Age']==4]\n",
    "        Z5 = DX_grouped['Zscore_citations_age'][DX_grouped['Age']==5]\n",
    "        Z10 = DX_grouped['Zscore_citations_age'][DX_grouped['Age']==10]\n",
    "        Z20 = DX_grouped['Zscore_citations_age'][DX_grouped['Age']==20]\n",
    "        Z30 = DX_grouped['Zscore_citations_age'][DX_grouped['Age']==30]\n",
    "        Z40 = DX_grouped['Zscore_citations_age'][DX_grouped['Age']==40]\n",
    "        \n",
    "        # compute z-score of observed CDF at different ages\n",
    "        DX_grouped['Zscore_cumulative_citations_age'] = (DX_grouped['citation_count_age'].cumsum()-DX_grouped['EV_num_cit_total_age'].cumsum())/DX_grouped['STD_num_cit_total_age'].cumsum()\n",
    "        Zcum0 = DX_grouped['Zscore_cumulative_citations_age'][DX_grouped['Age']==0]\n",
    "        Zcum1 = DX_grouped['Zscore_cumulative_citations_age'][DX_grouped['Age']==1]\n",
    "        Zcum2 = DX_grouped['Zscore_cumulative_citations_age'][DX_grouped['Age']==2]\n",
    "        Zcum3 = DX_grouped['Zscore_cumulative_citations_age'][DX_grouped['Age']==3]\n",
    "        Zcum4 = DX_grouped['Zscore_cumulative_citations_age'][DX_grouped['Age']==4]\n",
    "        Zcum5 = DX_grouped['Zscore_cumulative_citations_age'][DX_grouped['Age']==5]\n",
    "        Zcum10 = DX_grouped['Zscore_cumulative_citations_age'][DX_grouped['Age']==10]\n",
    "        Zcum20 = DX_grouped['Zscore_cumulative_citations_age'][DX_grouped['Age']==20]\n",
    "        Zcum30 = DX_grouped['Zscore_cumulative_citations_age'][DX_grouped['Age']==30]\n",
    "        Zcum40 = DX_grouped['Zscore_cumulative_citations_age'][DX_grouped['Age']==40]\n",
    "        \n",
    "        # compute cumulative sum of z scores of observed PDF at different ages\n",
    "        DX_grouped['Zscore_citations_age_cumsumZ'] = DX_grouped['Zscore_citations_age'].cumsum()\n",
    "        Zsum0 = DX_grouped['Zscore_citations_age_cumsumZ'][DX_grouped['Age']==0]\n",
    "        Zsum1 = DX_grouped['Zscore_citations_age_cumsumZ'][DX_grouped['Age']==1]\n",
    "        Zsum2 = DX_grouped['Zscore_citations_age_cumsumZ'][DX_grouped['Age']==2]\n",
    "        Zsum3 = DX_grouped['Zscore_citations_age_cumsumZ'][DX_grouped['Age']==3]\n",
    "        Zsum4 = DX_grouped['Zscore_citations_age_cumsumZ'][DX_grouped['Age']==4]\n",
    "        Zsum5 = DX_grouped['Zscore_citations_age_cumsumZ'][DX_grouped['Age']==5]\n",
    "        Zsum10 = DX_grouped['Zscore_citations_age_cumsumZ'][DX_grouped['Age']==10]\n",
    "    \n",
    "        # compute age corresponding to peak in z-score of PDF and last age in which Z-score of PDF is positive\n",
    "        peakZ = DX_grouped['Age'][DX_grouped['Zscore_citations_age']==DX_grouped['Zscore_citations_age'].max()]\n",
    "        first_posZ = DX_grouped['Age'][DX_grouped['Zscore_citations_age']>=0][:1]\n",
    "        last_posZ = DX_grouped['Age'][DX_grouped['Zscore_citations_age']>=0][-1:]\n",
    "        \n",
    "        if not array(peakZ):\n",
    "            peakZ = 'NaN'\n",
    "        else: peakZ = peakZ\n",
    "\n",
    "        if not array(first_posZ):\n",
    "            first_posZ = 'NaN'\n",
    "        else: first_posZ = first_posZ\n",
    "\n",
    "        if not array(last_posZ):\n",
    "            last_posZ = 'NaN'\n",
    "        else: last_posZ = last_posZ\n",
    "            \n",
    "        # append yearly data to big dataframe\n",
    "        DZyear = pd.DataFrame({'Domain':domain_name, 'year':year, 'Z0':array(Z0), 'Z1':array(Z1), 'Z2':array(Z2), 'Z3':array(Z3),\n",
    "                               'Z4':array(Z4), 'Z5':array(Z5),'Z10':array(Z10), 'Z20':array(Z20), 'Z30':array(Z30), 'Z40':array(Z40),\n",
    "                            'Zcum0':array(Zcum0), 'Zcum1':array(Zcum1), 'Zcum2':array(Zcum2), 'Z3cum':array(Zcum3), 'Zcum4':array(Zcum4), \n",
    "                           'Zcum5':array(Zcum5),'Zcum10':array(Zcum10), 'Zcum20':array(Zcum20), 'Zcum30':array(Zcum30), 'Zcum40':array(Zcum40),\n",
    "                            'Zsum0':array(Zsum0), 'Zsum1':array(Zsum1), 'Zsum2':array(Zsum2), 'Zsum3':array(Zsum3), 'Zsum4':array(Zsum4), \n",
    "                              'Zsum5':array(Zsum5), 'Zsum10':array(Zsum10),\n",
    "                               'peakZ':array(peakZ), 'first_posZ':array(first_posZ), 'last_posZ':array(last_posZ)})\n",
    "        DZ_years_domains = DZ_years_domains.append(DZyear)  \n",
    "    "
   ]
  },
  {
   "cell_type": "code",
   "execution_count": null,
   "metadata": {},
   "outputs": [],
   "source": [
    "idx_notNaN = DZ_years_domains['last_posZ']!='NaN'\n",
    "DZ_years_domains['Zcum5_over_last_ageZpos'] = 'NaN'\n",
    "DZ_years_domains['Zcum5_over_last_ageZpos'][idx_notNaN] = DZ_years_domains['Zcum5'][idx_notNaN] / DZ_years_domains['last_posZ'][idx_notNaN]\n",
    "DZ_years_domains['Zcum10_over_last_ageZpos'] = 'NaN'\n",
    "DZ_years_domains['Zcum10_over_last_ageZpos'][idx_notNaN] = DZ_years_domains['Zcum10'][idx_notNaN] / DZ_years_domains['last_posZ'][idx_notNaN]"
   ]
  },
  {
   "cell_type": "markdown",
   "metadata": {},
   "source": [
    "# Export DataFrame with Observed and Expected Values of citation count by age at patent level"
   ]
  },
  {
   "cell_type": "code",
   "execution_count": null,
   "metadata": {},
   "outputs": [],
   "source": [
    "ti = time.time()\n",
    "(DF_final.to_csv(export_path+'observed_vs_expected_citation_age_patent_level.csv',index=False))\n",
    " tf = time.time()\n",
    "(tf-ti)/60"
   ]
  },
  {
   "cell_type": "markdown",
   "metadata": {},
   "source": [
    "# Export DataFrame with Obsolescence Indices over time for each Domain"
   ]
  },
  {
   "cell_type": "code",
   "execution_count": null,
   "metadata": {},
   "outputs": [],
   "source": [
    "ti = time.time()\n",
    "DZ_years_domains.to_csv(export_path+'DataFrame_Normalized_Obsolescence_Domains_over_time.csv',index=False)\n",
    "tf = time.time()\n",
    "(tf-ti)/60"
   ]
  },
  {
   "cell_type": "code",
   "execution_count": null,
   "metadata": {},
   "outputs": [],
   "source": [
    "time_end_notebook = time.time()\n",
    "(time_end_notebook - time_start_notebook = time.time())/60"
   ]
  }
 ],
 "metadata": {
  "anaconda-cloud": {},
  "kernelspec": {
   "display_name": "Python 3",
   "language": "python",
   "name": "python3"
  },
  "language_info": {
   "codemirror_mode": {
    "name": "ipython",
    "version": 3
   },
   "file_extension": ".py",
   "mimetype": "text/x-python",
   "name": "python",
   "nbconvert_exporter": "python",
   "pygments_lexer": "ipython3",
   "version": "3.7.4"
  }
 },
 "nbformat": 4,
 "nbformat_minor": 1
}
